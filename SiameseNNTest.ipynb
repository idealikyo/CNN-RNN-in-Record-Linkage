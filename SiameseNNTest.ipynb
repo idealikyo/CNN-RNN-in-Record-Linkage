{
 "cells": [
  {
   "cell_type": "code",
   "execution_count": 1,
   "metadata": {},
   "outputs": [],
   "source": [
    "import os\n",
    "import sklearn\n",
    "import numpy as np\n",
    "import pandas as pd\n",
    "import re  # For preprocessing\n",
    "from time import time  # To time our operations\n",
    "from collections import defaultdict  # For word frequency\n",
    "\n",
    "import spacy  # For preprocessing\n"
   ]
  },
  {
   "cell_type": "code",
   "execution_count": 1,
   "metadata": {},
   "outputs": [],
   "source": [
    "npzfile = os.path.join(os.getcwd(), '../dataset/', 'movieAll')\n",
    "npz = np.load(npzfile + '.npz')\n",
    "imdb = npz['imdb']\n",
    "tmdb = npz['tmdb']\n",
    "match = npz['match']\n",
    "\n",
    "size = match.size"
   ]
  },
  {
   "cell_type": "code",
   "execution_count": 2,
   "metadata": {},
   "outputs": [],
   "source": [
    "import gensim \n",
    "from gensim.models import KeyedVectors\n",
    "#Load Google's pre-trained Word2Vec \n",
    "model = KeyedVectors.load_word2vec_format('../dataset/embeddings/GoogleNews-vectors-negative300.bin', binary=True) "
   ]
  },
  {
   "cell_type": "code",
   "execution_count": 4,
   "metadata": {},
   "outputs": [],
   "source": [
    "nlp = spacy.load('en', disable=['ner', 'parser']) # disabling Named Entity Recognition for speed\n",
    "\n",
    "def cleaning(doc):\n",
    "    # Lemmatizes and removes stopwords\n",
    "    # doc needs to be a spacy Doc object\n",
    "    txt = [token.lemma_ for token in doc if not token.is_stop]\n",
    "    # Word2Vec uses context words to learn the vector representation of a target word,\n",
    "    # if a sentence is only one or two words long,\n",
    "    # the benefit for the training is very small\n",
    "#     if len(txt) > 2:\n",
    "    return ' '.join(txt)"
   ]
  },
  {
   "cell_type": "code",
   "execution_count": 5,
   "metadata": {},
   "outputs": [],
   "source": [
    "def movieEmbed(movieSet, emb_dim=300, attr_num=5):\n",
    "    t = time()\n",
    "    movie_list = []\n",
    "    word_dims = [20, 10, 10, 10, 40]\n",
    "    for movie in movieSet:\n",
    "        movie_attr = []\n",
    "        attr_count = 0\n",
    "        brief_cleaning = (re.sub(\"[^A-Za-z0-9]+\", ' ', str(row)).lower() for row in movie)\n",
    "        movie_txt = [cleaning(doc) for doc in nlp.pipe(brief_cleaning, batch_size=5000, n_threads=-1)]\n",
    "        for attr, word_dim in zip(movie_txt, word_dims):\n",
    "#             attr_list = []\n",
    "            attr_count += 1\n",
    "            if attr_count > attr_num:\n",
    "                break\n",
    "            movie_attr.append(np.zeros(300)[:emb_dim])\n",
    "            movie_attr.append(np.zeros(300)[:emb_dim])\n",
    "            zero_i = 0\n",
    "            for attr_word in attr.split():\n",
    "#                 print(attr_word)\n",
    "                attr_vector = []\n",
    "                try:\n",
    "                    int(attr_word)\n",
    "                    for char in attr_word:\n",
    "                        attr_vector = model[char][:emb_dim]\n",
    "#                         print(char, \"  \", attr_vector[:2])\n",
    "                        movie_attr.append(attr_vector)\n",
    "                        zero_i += 1\n",
    "                        if zero_i >= word_dim:\n",
    "                            break\n",
    "                except:\n",
    "                    try:\n",
    "                        attr_vector = model[attr_word][:emb_dim]\n",
    "                    except:\n",
    "                        attr_vector = np.ones(300)[:emb_dim]\n",
    "#                         attr_vector = np.zeros(300)[:emb_dim]\n",
    "#                     print(attr_word, \"  \", attr_vector[:2])\n",
    "                    movie_attr.append(attr_vector)\n",
    "                    zero_i += 1\n",
    "                if zero_i >= word_dim:\n",
    "                    break\n",
    "            for i in range(word_dim-zero_i):\n",
    "                movie_attr.append(np.zeros(300)[:emb_dim])\n",
    "#             movie_attr.append(attr_list)\n",
    "        movie_attr.append(np.zeros(300)[:emb_dim])\n",
    "        movie_attr.append(np.zeros(300)[:emb_dim])\n",
    "        movie_list.append(movie_attr)\n",
    "\n",
    "#     print(movie_list)\n",
    "\n",
    "    print('Time to clean up everything: {} mins'.format(round((time() - t) / 60, 2)))\n",
    "    return movie_list"
   ]
  },
  {
   "cell_type": "code",
   "execution_count": 3,
   "metadata": {},
   "outputs": [],
   "source": [
    "from sklearn.model_selection import train_test_split\n",
    "\n",
    "\n",
    "num_sta = 0\n",
    "num_end = 20000\n",
    "\n",
    "imdb_embed = movieEmbed(imdb[num_sta:num_end,:], attr_num=5)\n",
    "tmdb_embed = movieEmbed(tmdb[num_sta:num_end,:], attr_num=5)\n",
    "\n",
    "input12 = []\n",
    "\n",
    "for movie1, movie2 in zip(imdb_embed, tmdb_embed):\n",
    "    input12.append((movie1, movie2))\n",
    "output = match[num_sta:num_end]\n",
    "\n",
    "X_train, X_test, Y_train, Y_test = train_test_split(input12, output, train_size=0.9)\n",
    "X_train = np.array(X_train)\n",
    "X_test = np.array(X_test)"
   ]
  },
  {
   "cell_type": "code",
   "execution_count": 7,
   "metadata": {},
   "outputs": [],
   "source": [
    "# print(np.shape(X_train))\n",
    "# for item in X_train:\n",
    "#     print(len(item))\n",
    "#     for movie in item:\n",
    "#         print(len(movie))\n",
    "#         break\n",
    "# X_train = np.array(X_train)\n",
    "# X_test = np.array(X_test)"
   ]
  },
  {
   "cell_type": "code",
   "execution_count": 8,
   "metadata": {},
   "outputs": [],
   "source": [
    "# X_train.shape[0]"
   ]
  },
  {
   "cell_type": "code",
   "execution_count": 1,
   "metadata": {},
   "outputs": [],
   "source": [
    "# -*- coding: utf-8 -*-\n",
    "import torch\n",
    "import torch.nn as nn\n",
    "import torch.nn.functional as F\n",
    "import numpy as np\n",
    "import matplotlib.pyplot as plt\n",
    "%matplotlib inline\n",
    "plt.style.use('ggplot')\n",
    "\n",
    "def plot_stats_in_graph(total_losses):\n",
    "    \n",
    "    # Plot the change in the validation and training set error over training.\n",
    "    fig_1 = plt.figure(figsize=(8, 4))\n",
    "    ax_1 = fig_1.add_subplot(111)\n",
    "    for k in total_losses.keys():\n",
    "        if \"loss\" in k:\n",
    "            ax_1.plot(np.arange(len(total_losses[k])), total_losses[k], label=k)\n",
    "    ax_1.legend(loc=0)\n",
    "    ax_1.set_xlabel('Epoch number')\n",
    "    \n",
    "    \n",
    "    fig_2 = plt.figure(figsize=(8, 4))\n",
    "    ax_2 = fig_2.add_subplot(111)\n",
    "    for k in total_losses.keys():\n",
    "        if \"acc\" in k:\n",
    "            ax_2.plot(np.arange(len(total_losses[k])), total_losses[k], label=k)\n",
    "    ax_2.legend(loc=0)\n",
    "    ax_2.set_xlabel('Epoch number')\n",
    "\n",
    "    plt.show()"
   ]
  },
  {
   "cell_type": "code",
   "execution_count": 2,
   "metadata": {},
   "outputs": [],
   "source": [
    "class RLCNN(nn.Module):\n",
    "\n",
    "    def __init__(self, word_embed):\n",
    "        super(RLCNN, self).__init__()\n",
    "\n",
    "        self.convEmbed = nn.Conv2d(in_channels=1, out_channels=16, kernel_size=(3, 300), padding=0, stride=1)\n",
    "#         self.conv1 = nn.Conv2d(in_channels=1, out_channels=16, kernel_size=(3, 153), padding=1, stride=1)\n",
    "#         self.conv2 = nn.Conv2d(in_channels=16, out_channels=64, kernel_size=(3, 143), padding=1, stride=1)\n",
    "#         self.fc1 = nn.Linear(16 * 50, 100)  # 6*6 from image dimension\n",
    "        self.fc1 = nn.Linear(16 * 21, 100)  # 6*6 from image dimension\n",
    "#         self.fc2 = nn.Linear(300, 100)\n",
    "        self.fc3 = nn.Linear(100, 10)\n",
    "        # initialize a module dict, which is effectively a dictionary that can collect layers and integrate them into pytorch\n",
    "        self.layer_dict = nn.ModuleDict()\n",
    "        self.word_embed = word_embed\n",
    "        \n",
    "    def forward(self, x):\n",
    "#         print(\"input x:\", np.shape(x))\n",
    "#         x = F.max_pool2d(F.relu(self.convEmbed(x)), kernel_size=(self.word_embed+2, 1), stride=(self.word_embed+2, 1), padding=0) \n",
    "#         x = F.dropout(x, p=0.5)\n",
    "#         print(\"convEmbed x:\", np.shape(x), \" kernel: \", self.word_embed+2)\n",
    "        x = F.max_pool2d(F.relu(self.convEmbed(x)), kernel_size=(2, 1), stride=(2, 1), padding=0) \n",
    "#         x = F.max_pool2d(F.relu(self.convEmbed(x)).reshape(100,1,16,100), kernel_size=(16, 1), stride=(1, 1), padding=0) \n",
    "        \n",
    "#         x = F.max_pool2d(F.relu(self.conv1(x)), kernel_size=3, padding=1, stride=1)\n",
    "#         x = F.dropout(x, p=0.5)\n",
    "#         print(\"conv1 x:\", np.shape(x))\n",
    "#         x = F.max_pool2d(F.relu(self.conv2(x)), kernel_size=3, padding=1, stride=1)\n",
    "#         x = F.dropout(x, p=0.5)\n",
    "#         print(\"conv2 x:\", np.shape(x))\n",
    "        x = x.view(-1, self.num_flat_features(x))\n",
    "#         print(\"num_flat_features x:\", np.shape(x))\n",
    "        x = self.fc1(x)\n",
    "#         x = F.dropout(x, p=0.5)\n",
    "#         print(\"fc1 x:\", np.shape(x))\n",
    "#         x = self.fc2(x)\n",
    "#         x = F.dropout(x, p=0.5)\n",
    "#         print(\"fc2 x:\", np.shape(x))\n",
    "        x = self.fc3(x)\n",
    "#         x = F.dropout(x, p=0.5)\n",
    "#         print(\"fc3 x:\", np.shape(x))\n",
    "        return x\n",
    "\n",
    "    def num_flat_features(self, x):\n",
    "        size = x.size()[1:]  # all dimensions except the batch dimension\n",
    "        num_features = 1\n",
    "        for s in size:\n",
    "            num_features *= s\n",
    "        return num_features\n",
    "\n",
    "    def reset_parameters(self):\n",
    "        \"\"\"\n",
    "        Re-initialize the network parameters.\n",
    "        \"\"\"\n",
    "\n",
    "        self.convEmbed.reset_parameters()\n",
    "#         self.conv1.reset_parameters()\n",
    "#         self.conv2.reset_parameters()\n",
    "        self.fc1.reset_parameters()\n",
    "#         self.fc2.reset_parameters()\n",
    "        self.fc3.reset_parameters()"
   ]
  },
  {
   "cell_type": "code",
   "execution_count": 3,
   "metadata": {},
   "outputs": [],
   "source": [
    "class SiameseCNN(nn.Module):\n",
    "\n",
    "    def __init__(self):\n",
    "        super(SiameseCNN, self).__init__()\n",
    "        \n",
    "        self.cnn = RLCNN(word_embed=10)\n",
    "        self.fc1 = nn.Linear(10, 2)\n",
    "        self.sm = nn.Softmax(dim=1)\n",
    "        # initialize a module dict, which is effectively a dictionary that can collect layers and integrate them into pytorch\n",
    "        self.layer_dict = nn.ModuleDict()\n",
    "        \n",
    "    def forward(self, x, y):\n",
    "#         x11 = x[:,0,:,:].reshape(100,1,512,300)\n",
    "#         x12 = x[:,1,:,:].reshape(100,1,512,300)\n",
    "#         print(\"In SiameseCNN: y: \", y[0])\n",
    "#         print(\"In SiameseCNN: x: \", x[0,0,1:], \"  \", x11[0,0,1:])\n",
    "#         print(\"In SiameseCNN: x: \", x[0,1,1:], \"  \", x12[0,0,1:])\n",
    "        x1 = self.cnn(x[:,0,:,:].reshape(100,1,44,300))\n",
    "#         print(\"In SiameseCNN: x1.shape: \", np.shape(x1))\n",
    "#         with torch.no_grad():\n",
    "        x2 = self.cnn(x[:,1,:,:].reshape(100,1,44,300))\n",
    "#             print(\"In SiameseCNN: x2.shape: \", np.shape(x2))\n",
    "#         for movie1, movie2 in zip(x1, x2):\n",
    "#             input12.append((movie1, movie2))\n",
    "#         x1 = x1 - x2\n",
    "#         x1 = torch.cat((x1, x2), 1)\n",
    "        x1 = abs(x1 - x2)\n",
    "#         print(\"In SiameseCNN: x1.shape: \", np.shape(x1))\n",
    "        x1 = self.sm(self.fc1(x1))\n",
    "        return x1\n",
    "        \n",
    "    def reset_parameters(self):\n",
    "        \"\"\"\n",
    "        Re-initialize the network parameters.\n",
    "        \"\"\"\n",
    "        self.cnn.reset_parameters()\n",
    "        self.fc1.reset_parameters()"
   ]
  },
  {
   "cell_type": "code",
   "execution_count": 48,
   "metadata": {},
   "outputs": [],
   "source": [
    "class SiameseCNNLSTM(nn.Module):\n",
    "\n",
    "    def __init__(self):\n",
    "        super(SiameseCNNLSTM, self).__init__()\n",
    "        self.convEmbed = nn.Conv2d(in_channels=1, out_channels=16, kernel_size=(3, 300), padding=0, stride=1)\n",
    "        self.rnn = nn.LSTM(input_size=21, hidden_size=10, num_layers=2, batch_first=True, bidirectional=False)\n",
    "        self.fc1 = nn.Linear(10*16, 10)\n",
    "        self.fc2 = nn.Linear(10, 2)\n",
    "        self.sm = nn.Softmax(dim=1)\n",
    "        # initialize a module dict, which is effectively a dictionary that can collect layers and integrate them into pytorch\n",
    "        self.layer_dict = nn.ModuleDict()\n",
    "        \n",
    "    def forward(self, x, y):\n",
    "        x1 = x[:,0,:,:].reshape(100,1,44,300)\n",
    "        x1 = F.max_pool2d(F.relu(self.convEmbed(x1)), kernel_size=(2, 1), stride=(2, 1), padding=0) \n",
    "#         x1 = F.max_pool2d(F.relu(self.convEmbed(x1)), kernel_size=(2, 1), stride=(1, 1), padding=0) \n",
    "#         x1 = F.max_pool2d(F.relu(self.convEmbed(x1)).reshape(100,1,16,100), kernel_size=(16, 1), stride=(1, 1), padding=0) \n",
    "#         print(\"In SiameseCNNLSTM: x1.shape: \", np.shape(x1))\n",
    "        x1, (hn, cn) = self.rnn(x1.reshape(100,16,21))\n",
    "#         x1, (hn, cn) = self.rnn(np.swapaxes(x1,1,2).reshape(100,16*50))\n",
    "#         print(\"In SiameseCNNLSTM: x1.shape: \", np.shape(x1))\n",
    "        x1 = self.fc1(x1.reshape(100,16*10))\n",
    "    \n",
    "        x2 = x[:,1,:,:].reshape(100,1,44,300)\n",
    "        x2 = F.max_pool2d(F.relu(self.convEmbed(x2)), kernel_size=(2, 1), stride=(2, 1), padding=0) \n",
    "#         x2 = F.max_pool2d(F.relu(self.convEmbed(x2)), kernel_size=(2, 1), stride=(1, 1), padding=0) \n",
    "#         x2 = F.max_pool2d(F.relu(self.convEmbed(x2)).reshape(100,1,16,100), kernel_size=(16, 1), stride=(1, 1), padding=0) \n",
    "        x2, (hn, cn) = self.rnn(x2.reshape(100,16,21))\n",
    "#         x2, (hn, cn) = self.rnn(np.swapaxes(x2,1,2).reshape(100,16*50))\n",
    "        x2 = self.fc1(x2.reshape(100,16*10))\n",
    "        \n",
    "        x1 = abs(x1 - x2)   \n",
    "#         print(\"x1\", x1 * x2)\n",
    "#         x1 = x1 * x2\n",
    "        x1 = self.sm(self.fc2(x1).reshape(100,2))\n",
    "        return x1\n",
    "        \n",
    "    def reset_parameters(self):\n",
    "        \"\"\"\n",
    "        Re-initialize the network parameters.\n",
    "        \"\"\"\n",
    "        self.convEmbed.reset_parameters()\n",
    "        self.rnn.reset_parameters()\n",
    "        self.fc1.reset_parameters()\n",
    "        self.fc2.reset_parameters()"
   ]
  },
  {
   "cell_type": "code",
   "execution_count": 93,
   "metadata": {},
   "outputs": [],
   "source": [
    "class SiameseLSTM(nn.Module):\n",
    "\n",
    "    def __init__(self):\n",
    "        super(SiameseLSTM, self).__init__()\n",
    "        \n",
    "        self.rnn = nn.LSTM(input_size=300*44, hidden_size=10, num_layers=3, batch_first=True, bidirectional=False)\n",
    "        self.fc1 = nn.Linear(10, 2)\n",
    "        self.sm = nn.Softmax(dim=1)\n",
    "        # initialize a module dict, which is effectively a dictionary that can collect layers and integrate them into pytorch\n",
    "        self.layer_dict = nn.ModuleDict()\n",
    "        \n",
    "    def forward(self, x, y):\n",
    "\n",
    "        x1, (hn, cn) = self.rnn(x[:,0,:,:].reshape(100,1,44*300))\n",
    "\n",
    "        x2, (hn, cn) = self.rnn(x[:,1,:,:].reshape(100,1,44*300))\n",
    "        \n",
    "        x1 = abs(x1 - x2)   \n",
    "#         print(\"x1\", x1 * x2)\n",
    "#         x1 = x1 * x2\n",
    "        x1 = self.sm(self.fc1(x1).reshape(100,2))\n",
    "        return x1\n",
    "        \n",
    "    def reset_parameters(self):\n",
    "        \"\"\"\n",
    "        Re-initialize the network parameters.\n",
    "        \"\"\"\n",
    "        self.rnn.reset_parameters()\n",
    "        self.fc1.reset_parameters()"
   ]
  },
  {
   "cell_type": "code",
   "execution_count": 111,
   "metadata": {},
   "outputs": [],
   "source": [
    "class SiameseGRU(nn.Module):\n",
    "\n",
    "    def __init__(self):\n",
    "        super(SiameseGRU, self).__init__()\n",
    "        \n",
    "        self.rnn = nn.GRU(input_size=300*44, hidden_size=10, num_layers=3, batch_first=True)\n",
    "#         self.fc1 = nn.Linear(16 * 50, 100)  # 6*6 from image dimension\n",
    "#         self.fc2 = nn.Linear(300, 100)\n",
    "#         self.fc3 = nn.Linear(100, 10)\n",
    "        self.fc4 = nn.Linear(10, 2)\n",
    "        self.sm = nn.Softmax(dim=1)\n",
    "        # initialize a module dict, which is effectively a dictionary that can collect layers and integrate them into pytorch\n",
    "        self.layer_dict = nn.ModuleDict()\n",
    "        \n",
    "    def forward(self, x, y):\n",
    "        x1, hn = self.rnn(x[:,0,:,:].reshape(100,1,44*300))\n",
    "#         x1 = self.fc1(x1)\n",
    "#         x1 = self.fc2(x1)\n",
    "#         x1 = self.fc3(x1)\n",
    "        \n",
    "        x2, hn = self.rnn(x[:,1,:,:].reshape(100,1,44*300))\n",
    "#         x2 = self.fc1(x2)\n",
    "#         x2 = self.fc2(x2)\n",
    "#         x2 = self.fc3(x2)\n",
    "        \n",
    "        x1 = abs(x1 - x2)\n",
    "        \n",
    "        x1 = self.sm(self.fc4(x1).reshape(100,2))\n",
    "        return x1\n",
    "        \n",
    "    def reset_parameters(self):\n",
    "        \"\"\"\n",
    "        Re-initialize the network parameters.\n",
    "        \"\"\"\n",
    "        self.rnn.reset_parameters()\n",
    "#         self.fc1.reset_parameters()\n",
    "#         self.fc2.reset_parameters()\n",
    "#         self.fc3.reset_parameters()\n",
    "        self.fc4.reset_parameters()"
   ]
  },
  {
   "cell_type": "code",
   "execution_count": 61,
   "metadata": {},
   "outputs": [],
   "source": [
    "class SiameseLN(nn.Module):\n",
    "\n",
    "    def __init__(self):\n",
    "        super(SiameseLN, self).__init__()\n",
    "        \n",
    "#         self.rnn = nn.LSTM(input_size=300*102, hidden_size=10, num_layers=2, batch_first=True, bidirectional=True)\n",
    "        self.fc1 = nn.Linear(300*44, 800)\n",
    "        self.fc2 = nn.Linear(800, 100)\n",
    "        self.fc3 = nn.Linear(100, 10)\n",
    "        self.fc4 = nn.Linear(10, 2)\n",
    "        self.sm = nn.Softmax(dim=1)\n",
    "        # initialize a module dict, which is effectively a dictionary that can collect layers and integrate them into pytorch\n",
    "        self.layer_dict = nn.ModuleDict()\n",
    "        \n",
    "    def forward(self, x, y):\n",
    "\n",
    "        x1 = self.fc1(x[:,0,:,:].reshape(100,1,44*300))\n",
    "        x1 = self.fc2(x1)\n",
    "        x1 = self.fc3(x1)\n",
    "\n",
    "        x2 = self.fc1(x[:,1,:,:].reshape(100,1,44*300))\n",
    "        x2 = self.fc2(x2)\n",
    "        x2 = self.fc3(x2)\n",
    "        \n",
    "        x1 = abs(x1 - x2)   \n",
    "#         print(\"x1\", x1 * x2)\n",
    "#         x1 = x1 * x2\n",
    "        x1 = self.sm(self.fc4(x1).reshape(100,2))\n",
    "        return x1\n",
    "        \n",
    "    def reset_parameters(self):\n",
    "        \"\"\"\n",
    "        Re-initialize the network parameters.\n",
    "        \"\"\"\n",
    "        self.fc1.reset_parameters()\n",
    "        self.fc2.reset_parameters()\n",
    "        self.fc3.reset_parameters()\n",
    "        self.fc4.reset_parameters()"
   ]
  },
  {
   "cell_type": "code",
   "execution_count": 4,
   "metadata": {},
   "outputs": [],
   "source": [
    "from source.data_providers import MovieDataLocalProvider \n",
    "from source.data_providers import MovieDataProvider \n",
    "from source.experiment_builder import ExperimentBuilder\n",
    "\n",
    "\n",
    "batch_size = 100\n",
    "seed = 20190805\n",
    "\n",
    "rng = np.random.RandomState(seed=seed)\n",
    "\n",
    "\n",
    "train_data = MovieDataProvider('train', batch_size=batch_size, rng=rng)\n",
    "val_data = MovieDataProvider('valid', batch_size=batch_size, rng=rng)\n",
    "test_data = MovieDataProvider('valid', batch_size=batch_size, rng=rng)"
   ]
  },
  {
   "cell_type": "code",
   "execution_count": 6,
   "metadata": {
    "scrolled": true
   },
   "outputs": [],
   "source": [
    "batch_size = 100\n",
    "experiment_name = 'GRU_experiment_1'\n",
    "num_epochs = 30\n",
    "seed = 20190812\n",
    "use_gpu = True\n",
    "\n",
    "learning_rate = 0.0005\n",
    "weight_decay_coefficient = 0.0008\n",
    "\n",
    "# Test1\n",
    "# learning_rate = 0.0002\n",
    "# weight_decay_coefficient = 0.0001\n",
    "# Test2\n",
    "# learning_rate = 0.0002\n",
    "# weight_decay_coefficient = 0.0001\n",
    "# Test3\n",
    "# learning_rate = 0.0005\n",
    "# weight_decay_coefficient = 0.001\n",
    "# custom_conv_net = SiameseLN()\n",
    "\n",
    "# Test1\n",
    "# learning_rate = 0.001\n",
    "# weight_decay_coefficient = 0.000002\n",
    "# Test2\n",
    "# learning_rate = 0.0002\n",
    "# weight_decay_coefficient = 0.00001\n",
    "# Test3\n",
    "# learning_rate = 0.001\n",
    "# weight_decay_coefficient = 0.0001\n",
    "# custom_conv_net = SiameseCNN()\n",
    "\n",
    "# Test1\n",
    "# learning_rate = 0.001\n",
    "# weight_decay_coefficient = 0.0004\n",
    "# Test2\n",
    "# learning_rate = 0.001\n",
    "# weight_decay_coefficient = 0.0004\n",
    "# Test3\n",
    "# learning_rate = 0.0005\n",
    "# weight_decay_coefficient = 0.0005\n",
    "# custom_conv_net = SiameseLSTM()\n",
    "\n",
    "# Test1\n",
    "# learning_rate = 0.001\n",
    "# weight_decay_coefficient = 0.0004\n",
    "# Test2\n",
    "# learning_rate = 0.0015\n",
    "# weight_decay_coefficient = 0.0002\n",
    "# Test3\n",
    "# learning_rate = 0.0005\n",
    "# weight_decay_coefficient = 0.0008\n",
    "# custom_conv_net = SiameseGRU()\n",
    "\n",
    "# Test1\n",
    "# learning_rate = 0.0001, 0.001\n",
    "# weight_decay_coefficient = 0.00001, 0.00001\n",
    "# Test2\n",
    "# learning_rate = 0.0002\n",
    "# weight_decay_coefficient = 0.00002\n",
    "# Test3\n",
    "# learning_rate = 0.001\n",
    "# weight_decay_coefficient = 0.00002\n",
    "# custom_conv_net = SiameseCNNLSTM()\n",
    "\n",
    "\n",
    "conv_experiment = ExperimentBuilder(network_model=custom_conv_net,\n",
    "                                    experiment_name=experiment_name,\n",
    "                                    num_epochs=num_epochs,\n",
    "                                    weight_decay_coefficient=weight_decay_coefficient,\n",
    "                                    use_gpu=use_gpu,\n",
    "                                    train_data=train_data, val_data=val_data, test_data=test_data, \n",
    "                                    learning_rate=learning_rate)\n",
    "total_losses, _, Y_pred, Y_target, X_input = conv_experiment.run_experiment()"
   ]
  },
  {
   "cell_type": "code",
   "execution_count": 120,
   "metadata": {},
   "outputs": [],
   "source": [
    "# tl_LN = total_losses\n",
    "# Yt_LN = Y_target\n",
    "# Yp_LN = Y_pred\n",
    "\n",
    "# tl_CNN = total_losses\n",
    "# Yt_CNN = Y_target\n",
    "# Yp_CNN = Y_pred\n",
    "\n",
    "# tl_LSTM = total_losses\n",
    "# Yt_LSTM = Y_target\n",
    "# Yp_LSTM = Y_pred\n",
    "\n",
    "# tl_GRU = total_losses\n",
    "# Yt_GRU = Y_target\n",
    "# Yp_GRU= Y_pred\n",
    "\n",
    "# tl_CNNLSTM = total_losses\n",
    "# Yt_CNNLSTM = Y_target\n",
    "# Yp_CNNLSTM = Y_pred\n",
    "\n",
    "# total_losses = tl_LN\n",
    "# Y_target = Yt_LN \n",
    "# Y_pred = Yp_LN "
   ]
  },
  {
   "cell_type": "code",
   "execution_count": 115,
   "metadata": {},
   "outputs": [
    {
     "data": {
      "image/png": "[encoded data removed]",
      "text/plain": [
       "<Figure size 576x288 with 1 Axes>"
      ]
     },
     "metadata": {
      "needs_background": "light"
     },
     "output_type": "display_data"
    },
    {
     "data": {
      "image/png": "[encoded data removed]",
      "text/plain": [
       "<Figure size 576x288 with 1 Axes>"
      ]
     },
     "metadata": {
      "needs_background": "light"
     },
     "output_type": "display_data"
    }
   ],
   "source": [
    "plot_stats_in_graph(total_losses)"
   ]
  },
  {
   "cell_type": "code",
   "execution_count": 20,
   "metadata": {},
   "outputs": [
    {
     "name": "stdout",
     "output_type": "stream",
     "text": [
      "tensor([0, 0, 1, 1, 0])\n",
      "tensor([1, 0, 1, 1, 0])\n",
      "[0 0 1 0 0]\n"
     ]
    }
   ],
   "source": [
    "# print(F.relu(Y_pred[0:500]))\n",
    "m = nn.Softmax()\n",
    "# Y_p = m(Y_pred)\n",
    "# X_input.shape\n",
    "# print(X_input[0,0,2,0:3])\n",
    "# print(test_data.inputs[0,0,2,0:3])\n",
    "print(Y_target[0:5])\n",
    "print(np.argmax(Y_pred, axis=1)[0:5])\n",
    "print(test_data.targets[0:5])"
   ]
  },
  {
   "cell_type": "code",
   "execution_count": 47,
   "metadata": {},
   "outputs": [],
   "source": [
    "import os\n",
    "import csv\n",
    "csvfile = os.path.join(os.getcwd(), '../dataset/movie-test.csv')\n",
    "with open(csvfile) as f:\n",
    "    reader = csv.reader(f)\n",
    "    X_list = [row for row in reader]"
   ]
  },
  {
   "cell_type": "code",
   "execution_count": 48,
   "metadata": {
    "scrolled": true
   },
   "outputs": [],
   "source": [
    "Y_pred_cl = np.argmax(Y_pred, axis=1)\n",
    "\n",
    "for i in np.arange(2000):\n",
    "    imdb_list = X_list[2*i]\n",
    "    tmdb_list = X_list[2*i + 1]\n",
    "#     print(X_list[2*i])\n",
    "#     print(X_list[2*i + 1])\n",
    "    for inputX, targetY, predY in zip(X_input, Y_target, Y_pred_cl):\n",
    "        match_flag = True\n",
    "        imdb_input = inputX[0]\n",
    "        tmdb_input = inputX[1]\n",
    "        if float(imdb_list[3]) != imdb_input[2][0] or \\\n",
    "            float(imdb_list[4]) != imdb_input[2][1] or \\\n",
    "            float(imdb_list[5]) != imdb_input[3][0] or \\\n",
    "            float(imdb_list[6]) != imdb_input[3][1] or \\\n",
    "            float(imdb_list[7]) != imdb_input[4][0] or \\\n",
    "            float(imdb_list[8]) != imdb_input[4][1] :\n",
    "#             float(tmdb_list[3]) != tmdb_input[2][0] or \\\n",
    "#             float(tmdb_list[4]) != tmdb_input[2][1] or \\\n",
    "#             float(tmdb_list[5]) != tmdb_input[3][0] or \\\n",
    "#             float(tmdb_list[6]) != tmdb_input[3][1] or \\\n",
    "#             float(tmdb_list[7]) != tmdb_input[4][0] or \\\n",
    "#             float(tmdb_list[8]) != tmdb_input[4][1]:\n",
    "#             print(imdb_list[3], imdb_input[2][0])\n",
    "            match_flag = False\n",
    "            continue\n",
    "        if match_flag == True:\n",
    "            \n",
    "            print(i,targetY,predY)\n",
    "            print(float(imdb_list[3]),imdb_input[2][0])\n",
    "            print(float(imdb_list[4]),imdb_input[2][1])\n",
    "            print(float(tmdb_list[3]),tmdb_input[2][0])\n",
    "            print(float(tmdb_list[4]),tmdb_input[2][1])\n",
    "            continue\n",
    "    if i > 10:\n",
    "        break"
   ]
  },
  {
   "cell_type": "code",
   "execution_count": 4,
   "metadata": {},
   "outputs": [],
   "source": [
    "# X_input[0,0,2]\n",
    "X_list[0:4]\n",
    "# X_input.shape"
   ]
  },
  {
   "cell_type": "code",
   "execution_count": 116,
   "metadata": {},
   "outputs": [
    {
     "data": {
      "text/plain": [
       "0.6809478530677611"
      ]
     },
     "execution_count": 116,
     "metadata": {},
     "output_type": "execute_result"
    }
   ],
   "source": [
    "from sklearn import metrics\n",
    "# val_data.targets\n",
    "# Y_pred.shape\n",
    "# val_data.targets[0:50]\n",
    "fpr, tpr, thresholds = metrics.roc_curve(Y_target, Y_pred[:,1])\n",
    "# fpr, tpr, thresholds = metrics.roc_curve(Y_target, np.argmax(Y_pred, axis=1))\n",
    "\n",
    "auc = metrics.auc(fpr, tpr)\n",
    "auc\n",
    "# metrics.f1_score(Y_target, np.argmax(Y_pred, axis=1))\n",
    "# tpr\n",
    "# thresholds\n",
    "# metrics.roc_auc_score(Y_target, Y_pred)\n",
    "# np.argmax(Y_pred, axis=1)"
   ]
  },
  {
   "cell_type": "code",
   "execution_count": 117,
   "metadata": {},
   "outputs": [
    {
     "data": {
      "image/png": "[encoded data removed]",
      "text/plain": [
       "<Figure size 432x288 with 1 Axes>"
      ]
     },
     "metadata": {
      "needs_background": "light"
     },
     "output_type": "display_data"
    }
   ],
   "source": [
    "plt.figure()\n",
    "lw = 2\n",
    "plt.plot(fpr, tpr, color='darkorange',\n",
    "         lw=lw, label='ROC curve (area = %0.2f)' % auc)\n",
    "plt.plot([0, 1], [0, 1], color='navy', lw=lw, linestyle='--')\n",
    "plt.xlim([0.0, 1.0])\n",
    "plt.ylim([0.0, 1.05])\n",
    "plt.xlabel('False Positive Rate')\n",
    "plt.ylabel('True Positive Rate')\n",
    "plt.title('Receiver operating characteristic example')\n",
    "plt.legend(loc=\"lower right\")\n",
    "plt.show()"
   ]
  },
  {
   "cell_type": "code",
   "execution_count": 118,
   "metadata": {},
   "outputs": [
    {
     "name": "stdout",
     "output_type": "stream",
     "text": [
      "Average precision-recall score: 0.76\n"
     ]
    }
   ],
   "source": [
    "average_precision = metrics.average_precision_score(Y_target, Y_pred[:,1])\n",
    "\n",
    "print('Average precision-recall score: {0:0.2f}'.format(\n",
    "      average_precision))"
   ]
  },
  {
   "cell_type": "code",
   "execution_count": 119,
   "metadata": {},
   "outputs": [
    {
     "data": {
      "text/plain": [
       "Text(0.5, 1.0, '2-class Precision-Recall curve: AP=0.76')"
      ]
     },
     "execution_count": 119,
     "metadata": {},
     "output_type": "execute_result"
    },
    {
     "data": {
      "image/png": "[encoded data removed]",
      "text/plain": [
       "<Figure size 432x288 with 1 Axes>"
      ]
     },
     "metadata": {
      "needs_background": "light"
     },
     "output_type": "display_data"
    }
   ],
   "source": [
    "from sklearn.metrics import precision_recall_curve\n",
    "import matplotlib.pyplot as plt\n",
    "from inspect import signature\n",
    "\n",
    "precision, recall, _ = precision_recall_curve(Y_target, Y_pred[:,1])\n",
    "\n",
    "# In matplotlib < 1.5, plt.fill_between does not have a 'step' argument\n",
    "step_kwargs = ({'step': 'post'}\n",
    "               if 'step' in signature(plt.fill_between).parameters\n",
    "               else {})\n",
    "plt.step(recall, precision, color='b', alpha=0.2,\n",
    "         where='post')\n",
    "plt.fill_between(recall, precision, alpha=0.2, color='b', **step_kwargs)\n",
    "\n",
    "plt.xlabel('Recall')\n",
    "plt.ylabel('Precision')\n",
    "plt.ylim([0.0, 1.05])\n",
    "plt.xlim([0.0, 1.0])\n",
    "plt.title('2-class Precision-Recall curve: AP={0:0.2f}'.format(\n",
    "          average_precision))"
   ]
  },
  {
   "cell_type": "code",
   "execution_count": 25,
   "metadata": {},
   "outputs": [],
   "source": [
    "def plot_confusion_matrix(cm, classes=None, norm=True, title='Confusion matrix', ax=None, **kwargs):\n",
    "    \"\"\"Plots a confusion matrix.\"\"\"\n",
    "    heatmap_kwargs = dict(annot=True, fmt='d')\n",
    "    if norm:\n",
    "        cm_norm = cm/cm.sum(axis=1)[:, np.newaxis]\n",
    "        heatmap_kwargs['data'] = cm_norm\n",
    "        heatmap_kwargs['vmin']=0.\n",
    "        heatmap_kwargs['vmax']=1.\n",
    "        heatmap_kwargs['fmt']='.3f'\n",
    "    else:\n",
    "        heatmap_kwargs['data'] = cm\n",
    "    if classes is not None:\n",
    "        heatmap_kwargs['xticklabels']=classes\n",
    "        heatmap_kwargs['yticklabels']=classes\n",
    "    if ax is None:\n",
    "        ax = plt.gca()\n",
    "    heatmap_kwargs['ax'] = ax\n",
    "    heatmap_kwargs.update(kwargs)\n",
    "    sns.heatmap(**heatmap_kwargs)\n",
    "    ax.set_title(title)\n",
    "    ax.set_ylabel('True label')\n",
    "    ax.set_xlabel('Predicted label')"
   ]
  },
  {
   "cell_type": "code",
   "execution_count": 26,
   "metadata": {},
   "outputs": [
    {
     "name": "stdout",
     "output_type": "stream",
     "text": [
      "Confusion Matrix: \n",
      " [[725 245]\n",
      " [472 558]]\n"
     ]
    },
    {
     "data": {
      "image/png": "[encoded data removed]",
      "text/plain": [
       "<Figure size 432x288 with 2 Axes>"
      ]
     },
     "metadata": {
      "needs_background": "light"
     },
     "output_type": "display_data"
    }
   ],
   "source": [
    "from sklearn.metrics import confusion_matrix\n",
    "import seaborn as sns\n",
    "# from utils.plotter import scatter_jitter, plot_confusion_matrix\n",
    "\n",
    "# print(\"The classification accuracy: \", gnb.score(X_train, y_train))\n",
    "cm_train = confusion_matrix(Y_target, np.argmax(Y_pred, axis=1))\n",
    "print(\"Confusion Matrix: \\n\", cm_train)\n",
    "plot_confusion_matrix(cm_train, classes=[0,1])\n",
    "plt.ylabel('True class')\n",
    "plt.xlabel('Predicted class')\n",
    "plt.show()"
   ]
  },
  {
   "cell_type": "code",
   "execution_count": 121,
   "metadata": {},
   "outputs": [
    {
     "data": {
      "image/png": "[encoded data removed]",
      "text/plain": [
       "<Figure size 432x288 with 1 Axes>"
      ]
     },
     "metadata": {
      "needs_background": "light"
     },
     "output_type": "display_data"
    }
   ],
   "source": [
    "\n",
    "\n",
    "\n",
    "plt.figure()\n",
    "lw = 2\n",
    "\n",
    "Yt = Yt_LN\n",
    "Yp = Yp_LN\n",
    "fpr, tpr, thresholds = metrics.roc_curve(Yt, Yp[:,1])\n",
    "auc = metrics.auc(fpr, tpr)\n",
    "plt.plot(fpr, tpr, lw=lw, label='FC (AUC-ROC = %0.2f)' % auc)\n",
    "\n",
    "Yt = Yt_CNN\n",
    "Yp = Yp_CNN\n",
    "fpr, tpr, thresholds = metrics.roc_curve(Yt, Yp[:,1])\n",
    "auc = metrics.auc(fpr, tpr)\n",
    "plt.plot(fpr, tpr, lw=lw, label='CNN (AUC-ROC = %0.2f)' % auc)\n",
    "\n",
    "Yt = Yt_LSTM\n",
    "Yp = Yp_LSTM\n",
    "fpr, tpr, thresholds = metrics.roc_curve(Yt, Yp[:,1])\n",
    "auc = metrics.auc(fpr, tpr)\n",
    "plt.plot(fpr, tpr, lw=lw, label='LSTM (AUC-ROC = %0.2f)' % auc)\n",
    "\n",
    "Yt = Yt_GRU\n",
    "Yp = Yp_GRU\n",
    "fpr, tpr, thresholds = metrics.roc_curve(Yt, Yp[:,1])\n",
    "auc = metrics.auc(fpr, tpr)\n",
    "plt.plot(fpr, tpr, lw=lw, label='GRU (AUC-ROC = %0.2f)' % auc)\n",
    "\n",
    "Yt = Yt_CNNLSTM\n",
    "Yp = Yp_CNNLSTM\n",
    "fpr, tpr, thresholds = metrics.roc_curve(Yt, Yp[:,1])\n",
    "auc = metrics.auc(fpr, tpr)\n",
    "plt.plot(fpr, tpr, lw=lw, label='CNNLSTM (AUC-ROC = %0.2f)' % auc)\n",
    "\n",
    "\n",
    "plt.plot([0, 1], [0, 1], color='navy', lw=lw, linestyle='--')\n",
    "plt.xlim([0.0, 1.0])\n",
    "plt.ylim([0.0, 1.05])\n",
    "plt.xlabel('False Positive Rate')\n",
    "plt.ylabel('True Positive Rate')\n",
    "# plt.title('Receiver operating characteristic example')\n",
    "plt.legend(loc=\"lower right\")\n",
    "plt.show()"
   ]
  },
  {
   "cell_type": "code",
   "execution_count": 122,
   "metadata": {},
   "outputs": [
    {
     "data": {
      "image/png": "[encoded data removed]",
      "text/plain": [
       "<Figure size 432x288 with 1 Axes>"
      ]
     },
     "metadata": {
      "needs_background": "light"
     },
     "output_type": "display_data"
    }
   ],
   "source": [
    "Yt = Yt_LN\n",
    "Yp = Yp_LN\n",
    "average_precision = metrics.average_precision_score(Yt, Yp[:,1])\n",
    "\n",
    "precision, recall, _ = precision_recall_curve(Yt, Yp[:,1])\n",
    "\n",
    "# In matplotlib < 1.5, plt.fill_between does not have a 'step' argument\n",
    "step_kwargs = ({'step': 'post'}\n",
    "               if 'step' in signature(plt.fill_between).parameters\n",
    "               else {})\n",
    "plt.step(recall, precision, alpha=0.8, where='post', label='FC (AUC-PR = %0.2f)' % average_precision)\n",
    "plt.fill_between(recall, precision, alpha=0.1, **step_kwargs)\n",
    "\n",
    "Yt = Yt_CNN\n",
    "Yp = Yp_CNN\n",
    "average_precision = metrics.average_precision_score(Yt, Yp[:,1])\n",
    "\n",
    "precision, recall, _ = precision_recall_curve(Yt, Yp[:,1])\n",
    "\n",
    "# In matplotlib < 1.5, plt.fill_between does not have a 'step' argument\n",
    "step_kwargs = ({'step': 'post'}\n",
    "               if 'step' in signature(plt.fill_between).parameters\n",
    "               else {})\n",
    "plt.step(recall, precision, alpha=0.8, where='post', label='CNN (AUC-PR = %0.2f)' % average_precision)\n",
    "plt.fill_between(recall, precision, alpha=0.1, **step_kwargs)\n",
    "\n",
    "\n",
    "Yt = Yt_LSTM\n",
    "Yp = Yp_LSTM\n",
    "average_precision = metrics.average_precision_score(Yt, Yp[:,1])\n",
    "\n",
    "precision, recall, _ = precision_recall_curve(Yt, Yp[:,1])\n",
    "\n",
    "# In matplotlib < 1.5, plt.fill_between does not have a 'step' argument\n",
    "step_kwargs = ({'step': 'post'}\n",
    "               if 'step' in signature(plt.fill_between).parameters\n",
    "               else {})\n",
    "plt.step(recall, precision, alpha=0.8, where='post', label='LSTM (AUC-PR = %0.2f)' % average_precision)\n",
    "plt.fill_between(recall, precision, alpha=0.1, **step_kwargs)\n",
    "\n",
    "Yt = Yt_GRU\n",
    "Yp = Yp_GRU\n",
    "average_precision = metrics.average_precision_score(Yt, Yp[:,1])\n",
    "\n",
    "precision, recall, _ = precision_recall_curve(Yt, Yp[:,1])\n",
    "\n",
    "# In matplotlib < 1.5, plt.fill_between does not have a 'step' argument\n",
    "step_kwargs = ({'step': 'post'}\n",
    "               if 'step' in signature(plt.fill_between).parameters\n",
    "               else {})\n",
    "plt.step(recall, precision, alpha=0.8, where='post', label='GRU (AUC-PR = %0.2f)' % average_precision)\n",
    "plt.fill_between(recall, precision, alpha=0.1, **step_kwargs)\n",
    "\n",
    "Yt = Yt_CNNLSTM\n",
    "Yp = Yp_CNNLSTM\n",
    "average_precision = metrics.average_precision_score(Yt, Yp[:,1])\n",
    "\n",
    "precision, recall, _ = precision_recall_curve(Yt, Yp[:,1])\n",
    "\n",
    "# In matplotlib < 1.5, plt.fill_between does not have a 'step' argument\n",
    "step_kwargs = ({'step': 'post'}\n",
    "               if 'step' in signature(plt.fill_between).parameters\n",
    "               else {})\n",
    "plt.step(recall, precision, alpha=0.8, where='post', label='CNNLSTM (AUC-PR = %0.2f)' % average_precision)\n",
    "plt.fill_between(recall, precision, alpha=0.1, **step_kwargs)\n",
    "\n",
    "\n",
    "plt.xlabel('Recall')\n",
    "plt.ylabel('Precision')\n",
    "plt.ylim([0.0, 1.05])\n",
    "plt.xlim([0.0, 1.0])\n",
    "# plt.title('2-class Precision-Recall curve: AP={0:0.2f}'.format(\n",
    "#           average_precision))\n",
    "plt.legend(loc='lower left')\n",
    "plt.show()"
   ]
  }
 ],
 "metadata": {
  "kernelspec": {
   "display_name": "Python 3",
   "language": "python",
   "name": "python3"
  },
  "language_info": {
   "codemirror_mode": {
    "name": "ipython",
    "version": 3
   },
   "file_extension": ".py",
   "mimetype": "text/x-python",
   "name": "python",
   "nbconvert_exporter": "python",
   "pygments_lexer": "ipython3",
   "version": "3.7.3"
  }
 },
 "nbformat": 4,
 "nbformat_minor": 2
}

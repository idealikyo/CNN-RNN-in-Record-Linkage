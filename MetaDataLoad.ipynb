{
 "cells": [
  {
   "cell_type": "code",
   "execution_count": null,
   "metadata": {},
   "outputs": [],
   "source": [
    "import os\n",
    "import sys\n",
    "import sklearn\n",
    "import numpy as np\n",
    "import pandas as pd\n",
    "\n",
    "\n",
    "\n",
    "data_path = os.path.join(os.getcwd(), '../dataset/', 'imdb.csv')\n",
    "assert os.path.isfile(data_path), (\n",
    "    'Data file does not exist at expected path: ' + data_path\n",
    ")\n",
    "csv_imdb = pd.read_csv(data_path, delimiter = ',', index_col=False).sort_values(['imdbid'])\n",
    "\n",
    "\n",
    "data_path = os.path.join(os.getcwd(), '../dataset/', 'movies_metadata.csv')\n",
    "assert os.path.isfile(data_path), (\n",
    "    'Data file does not exist at expected path: ' + data_path\n",
    ")\n",
    "csv_tmdb = pd.read_csv(data_path, delimiter = ',', index_col=False).sort_values(['imdb_id'])\n",
    "\n",
    "# print(\"【tmdb describe】:\\n\", csv_tmdb.describe(include='all'))"
   ]
  },
  {
   "cell_type": "code",
   "execution_count": null,
   "metadata": {},
   "outputs": [],
   "source": [
    "csv_tmdb.head()"
   ]
  },
  {
   "cell_type": "code",
   "execution_count": null,
   "metadata": {},
   "outputs": [],
   "source": [
    "\n",
    "pos_count = 0\n",
    "neg_count = 0\n",
    "pre_id = 0\n",
    "pre_row = []\n",
    "pre_index = 0\n",
    "imdb_iter = csv_imdb.iterrows()\n",
    "row_i = next(imdb_iter)\n",
    "imdb_file = []\n",
    "tmdb_file = []\n",
    "match_file = []\n",
    "\n",
    "\n",
    "for index_t, row_t in csv_tmdb.iterrows():\n",
    "    imdb_unit = []\n",
    "    tmdb_unit = []\n",
    "    \n",
    "    if pre_id != row_t['id']:\n",
    "        try:\n",
    "            imdbid = row_t['imdb_id'][2:].lstrip(\"0\")\n",
    "        except:\n",
    "            continue\n",
    "        if imdbid == \"\":\n",
    "            continue\n",
    "#         if imdbid == \"10\":\n",
    "#             break\n",
    "        print(imdbid)\n",
    "        while row_i[1]['imdbid'] < int(imdbid):\n",
    "            try:\n",
    "                row_i = next(imdb_iter)\n",
    "            except:\n",
    "                print(\"Oops!\",sys.exc_info()[0],\"occured.\")\n",
    "                break\n",
    "        if row_i[1]['imdbid'] == int(imdbid):\n",
    "            print(\"imdbid: \", imdbid, \"     row_i[1][imdbid]: \",  row_i[1]['imdbid'], \"     row_t['id']: \", row_t['id'])\n",
    "            # Positive pair\n",
    "            imdb_unit = [row_i[1]['title'], row_i[1]['year'], row_i[1]['genres'], row_i[1]['language'], row_i[1]['plot']]\n",
    "            tmdb_unit = [row_t['title'], row_t['release_date'], row_t['genres'], row_t['spoken_languages'], row_t['overview']]\n",
    "            imdb_file.append(imdb_unit)\n",
    "            tmdb_file.append(tmdb_unit)\n",
    "            match_file.append(1)\n",
    "            pos_count += 1\n",
    "            # Negative pair\n",
    "            if pre_id != 0: \n",
    "                tmdb_unit = [pre_row['title'], pre_row['release_date'], pre_row['genres'], pre_row['spoken_languages'], pre_row['overview']]\n",
    "                imdb_file.append(imdb_unit)\n",
    "                tmdb_file.append(tmdb_unit)\n",
    "                match_file.append(0)\n",
    "                neg_count += 1\n",
    "    pre_id = row_t['id']\n",
    "    pre_row = row_t\n",
    "            \n",
    "print(\"Total positive match: \", pos_count)\n",
    "print(\"Total negative match: \", neg_count)\n",
    "# np.savetxt('../dataset/imdb_input.csv', imdb_file, fmt='%s')\n",
    "# np.savetxt('../dataset/tmdb_input.csv', tmdb_file, fmt='%s')\n",
    "# np.savetxt('../dataset/match_input.csv', match_file, fmt='%d')\n",
    "\n",
    "\n"
   ]
  },
  {
   "cell_type": "code",
   "execution_count": null,
   "metadata": {},
   "outputs": [],
   "source": [
    "npzfile = os.path.join(os.getcwd(), '../dataset/', 'movieAll')\n",
    "np.savez(npzfile, imdb=imdb_file, tmdb=tmdb_file, match=match_file)"
   ]
  },
  {
   "cell_type": "code",
   "execution_count": null,
   "metadata": {},
   "outputs": [],
   "source": [
    "npz = np.load(npzfile + '.npz')\n",
    "\n",
    "print(npz.files)\n",
    "print(npz['imdb'].size)\n",
    "imdb = npz['imdb']\n",
    "tmdb = npz['tmdb']"
   ]
  },
  {
   "cell_type": "code",
   "execution_count": null,
   "metadata": {},
   "outputs": [],
   "source": [
    "print(imdb[30691])"
   ]
  },
  {
   "cell_type": "code",
   "execution_count": null,
   "metadata": {},
   "outputs": [],
   "source": [
    "print(tmdb[30691])"
   ]
  },
  {
   "cell_type": "code",
   "execution_count": null,
   "metadata": {},
   "outputs": [],
   "source": [
    "plots_i = imdb[:,4]\n",
    "print(plots_i[30001])"
   ]
  },
  {
   "cell_type": "code",
   "execution_count": null,
   "metadata": {},
   "outputs": [],
   "source": [
    "plots_t = tmdb[:,4]\n",
    "print(plots_t[30001])"
   ]
  },
  {
   "cell_type": "code",
   "execution_count": null,
   "metadata": {},
   "outputs": [],
   "source": [
    "max_len = 0\n",
    "max_plot = \"\"\n",
    "max_index = 0\n",
    "count = 0\n",
    "up_len = 600\n",
    "\n",
    "for index, plot in enumerate(plots_i):\n",
    "    plot_len = len(plot.split())\n",
    "#     if plot_len > max_len:# and index != 40619 and index != 40620 and index != 30691 and index != 30692:\n",
    "#         max_len = plot_len\n",
    "#         max_plot = plot\n",
    "#         max_index = index\n",
    "    if plot_len > up_len:\n",
    "        count += 1\n",
    "# print(max_len)\n",
    "# print(max_index)\n",
    "# print(max_plot)\n",
    "print(count)"
   ]
  },
  {
   "cell_type": "code",
   "execution_count": null,
   "metadata": {},
   "outputs": [],
   "source": []
  }
 ],
 "metadata": {
  "kernelspec": {
   "display_name": "Python 3",
   "language": "python",
   "name": "python3"
  },
  "language_info": {
   "codemirror_mode": {
    "name": "ipython",
    "version": 3
   },
   "file_extension": ".py",
   "mimetype": "text/x-python",
   "name": "python",
   "nbconvert_exporter": "python",
   "pygments_lexer": "ipython3",
   "version": "3.7.3"
  }
 },
 "nbformat": 4,
 "nbformat_minor": 2
}
